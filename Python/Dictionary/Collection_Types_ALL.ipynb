{
 "cells": [
  {
   "cell_type": "code",
   "execution_count": null,
   "metadata": {},
   "outputs": [],
   "source": [
    "# First Lists"
   ]
  },
  {
   "cell_type": "code",
   "execution_count": 4,
   "metadata": {},
   "outputs": [],
   "source": [
    "one_variable=0\n",
    "another_variable=0\n",
    "third_variable=0\n",
    "# a list of strings\n",
    "animals=['cat','dog','fish','bison']\n",
    "numbers=[1,2,4,32,43,45,766,78,78]\n",
    "# a list of thing or variables we will define later\n",
    "things=[\n",
    "    one_variable,\n",
    "    another_variable,\n",
    "    third_variable,#this trailing , in the end of a list is legal in Python \n",
    "]"
   ]
  },
  {
   "cell_type": "code",
   "execution_count": null,
   "metadata": {},
   "outputs": [],
   "source": [
    "# As you can see we have used most of the plural nouns to name the \n",
    "# lists this is common in python"
   ]
  }
 ],
 "metadata": {
  "kernelspec": {
   "display_name": "Python 3",
   "language": "python",
   "name": "python3"
  },
  "language_info": {
   "codemirror_mode": {
    "name": "ipython",
    "version": 3
   },
   "file_extension": ".py",
   "mimetype": "text/x-python",
   "name": "python",
   "nbconvert_exporter": "python",
   "pygments_lexer": "ipython3",
   "version": "3.7.3"
  }
 },
 "nbformat": 4,
 "nbformat_minor": 2
}
