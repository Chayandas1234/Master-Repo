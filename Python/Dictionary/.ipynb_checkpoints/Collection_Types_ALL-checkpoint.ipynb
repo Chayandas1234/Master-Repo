{
 "cells": [
  {
   "cell_type": "code",
   "execution_count": 1,
   "metadata": {},
   "outputs": [],
   "source": [
    "# First Lists"
   ]
  },
  {
   "cell_type": "code",
   "execution_count": 2,
   "metadata": {},
   "outputs": [],
   "source": [
    "one_variable=0\n",
    "another_variable=0\n",
    "third_variable=0\n",
    "# a list of strings\n",
    "animals=['cat','dog','fish','bison']\n",
    "numbers=[1,2,4,32,43,45,766,78,78]\n",
    "# a list of thing or variables we will define later\n",
    "things=[\n",
    "    one_variable,\n",
    "    another_variable,\n",
    "    third_variable,#this trailing , in the end of a list is legal in Python \n",
    "]"
   ]
  },
  {
   "cell_type": "code",
   "execution_count": 4,
   "metadata": {},
   "outputs": [],
   "source": [
    "# As you can see we have used most of the plural nouns to name the \n",
    "# lists this is common in python"
   ]
  },
  {
   "cell_type": "code",
   "execution_count": 5,
   "metadata": {},
   "outputs": [
    {
     "data": {
      "text/plain": [
       "'fdsafsa'"
      ]
     },
     "execution_count": 5,
     "metadata": {},
     "output_type": "execute_result"
    }
   ],
   "source": [
    "# So about lists:-\n",
    "# so list as the name sugests a list of items we can use  it to store multiple data and access them sequentially "
   ]
  },
  {
   "cell_type": "code",
   "execution_count": null,
   "metadata": {},
   "outputs": [],
   "source": [
    "# hello boi whats iup hows life man haven't seen you in a long time mean "
   ]
  }
 ],
 "metadata": {
  "kernelspec": {
   "display_name": "Python 3",
   "language": "python",
   "name": "python3"
  },
  "language_info": {
   "codemirror_mode": {
    "name": "ipython",
    "version": 3
   },
   "file_extension": ".py",
   "mimetype": "text/x-python",
   "name": "python",
   "nbconvert_exporter": "python",
   "pygments_lexer": "ipython3",
   "version": "3.7.3"
  }
 },
 "nbformat": 4,
 "nbformat_minor": 2
}
